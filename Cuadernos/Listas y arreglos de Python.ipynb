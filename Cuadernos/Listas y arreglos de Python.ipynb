{
 "cells": [
  {
   "cell_type": "markdown",
   "metadata": {},
   "source": [
    "# Listas en Python\n",
    "\n",
    "Una lista es una estructura de datos en Python conformada como una secuencia de elementos ordenada y modificable. Cada elemento o valor que está dentro de una lista se llama elemento. Así como las cadenas se definen como caracteres entre comillas, las listas se definen teniendo sus elementos entre corchetes `[ ... ]` y separandolos con comas  `,`.\n",
    "\n",
    "\n",
    "\n"
   ]
  },
  {
   "cell_type": "markdown",
   "metadata": {},
   "source": [
    "**Ejemplo 1** *(días de la semana)* Una lista que contengan los días de la semana."
   ]
  },
  {
   "cell_type": "code",
   "execution_count": 52,
   "metadata": {},
   "outputs": [],
   "source": [
    "Dias=[\"Lunes\",\"Martes\",\"Miércoles\",\"Jueves\",\"Viernes\",\"Sábado\",\"Domingo\"]\n"
   ]
  },
  {
   "cell_type": "code",
   "execution_count": 53,
   "metadata": {},
   "outputs": [
    {
     "data": {
      "text/plain": [
       "['Lunes', 'Martes', 'Miércoles', 'Jueves', 'Viernes', 'Sábado', 'Domingo']"
      ]
     },
     "execution_count": 53,
     "metadata": {},
     "output_type": "execute_result"
    }
   ],
   "source": [
    "Dias"
   ]
  },
  {
   "cell_type": "markdown",
   "metadata": {},
   "source": [
    "**Ejemplo 2** *(frutas y verduras)* Haga una lista de frutas y verduras:"
   ]
  },
  {
   "cell_type": "code",
   "execution_count": 3,
   "metadata": {},
   "outputs": [],
   "source": [
    "FV=[\"Fresas\",\"Papaya\",\"Limón\",\"Brocoli\",\"Acelgas\",\"Espinacas\"]"
   ]
  },
  {
   "cell_type": "code",
   "execution_count": 4,
   "metadata": {},
   "outputs": [
    {
     "data": {
      "text/plain": [
       "['Fresas', 'Papaya', 'Limón', 'Brocoli', 'Acelgas', 'Espinacas']"
      ]
     },
     "execution_count": 4,
     "metadata": {},
     "output_type": "execute_result"
    }
   ],
   "source": [
    "FV"
   ]
  },
  {
   "cell_type": "code",
   "execution_count": 9,
   "metadata": {},
   "outputs": [
    {
     "data": {
      "text/plain": [
       "list"
      ]
     },
     "execution_count": 9,
     "metadata": {},
     "output_type": "execute_result"
    }
   ],
   "source": [
    "type(FV)"
   ]
  },
  {
   "cell_type": "code",
   "execution_count": 10,
   "metadata": {},
   "outputs": [
    {
     "name": "stdout",
     "output_type": "stream",
     "text": [
      "['Fresas', 'Papaya', 'Limón', 'Brocoli', 'Acelgas', 'Espinacas']\n"
     ]
    }
   ],
   "source": [
    "print(FV)"
   ]
  },
  {
   "cell_type": "markdown",
   "metadata": {},
   "source": [
    "## Explorar listas\n",
    "\n",
    "Usamos paréntesis cuadrados para indicar el índice del elemento de la lista que queremos llamar, el conteo siempre inicia en 0. Por ejemplo, el primer, el tercer y el cuarto elemento de la lista `FV` se designan:"
   ]
  },
  {
   "cell_type": "code",
   "execution_count": 5,
   "metadata": {},
   "outputs": [
    {
     "name": "stdout",
     "output_type": "stream",
     "text": [
      "Primer elemento:  Fresas\n",
      "Tercer elemento:  Limón\n",
      "Cuarto elemento:  Brocoli\n"
     ]
    }
   ],
   "source": [
    "print(\"Primer elemento: \",FV[0])\n",
    "print(\"Tercer elemento: \",FV[2])\n",
    "print(\"Cuarto elemento: \",FV[3])"
   ]
  },
  {
   "cell_type": "markdown",
   "metadata": {},
   "source": [
    "**Índices Negativos**\n",
    "\n",
    "Los índices negativos permiten explorar la lista desde el último elemento, así `Lista[-1]` es el último elemento de la lista, `Lista[-2]` es el penúltimo y así sucesivamente."
   ]
  },
  {
   "cell_type": "code",
   "execution_count": 6,
   "metadata": {},
   "outputs": [
    {
     "data": {
      "text/plain": [
       "'Domingo'"
      ]
     },
     "execution_count": 6,
     "metadata": {},
     "output_type": "execute_result"
    }
   ],
   "source": [
    "Dias[-1]"
   ]
  },
  {
   "cell_type": "code",
   "execution_count": 7,
   "metadata": {},
   "outputs": [
    {
     "data": {
      "text/plain": [
       "'Sábado'"
      ]
     },
     "execution_count": 7,
     "metadata": {},
     "output_type": "execute_result"
    }
   ],
   "source": [
    "Dias[-2]"
   ]
  },
  {
   "cell_type": "code",
   "execution_count": 8,
   "metadata": {},
   "outputs": [
    {
     "data": {
      "text/plain": [
       "'Viernes'"
      ]
     },
     "execution_count": 8,
     "metadata": {},
     "output_type": "execute_result"
    }
   ],
   "source": [
    "Dias[-3]"
   ]
  },
  {
   "cell_type": "markdown",
   "metadata": {},
   "source": [
    "**Rango de índices** \n",
    "\n",
    "También podemos extraer de la lista una sublista con un rango específico de indices, escribimos `Lista[i:j]`donde i representa el índice inicial del rango y j el índice final más 1. Por ejemplo, si quiero extraer de la lista `Dias` los tres días de la semana después del martes, inicio con el índice de martes (1) y termino con el índice de viernes (4):"
   ]
  },
  {
   "cell_type": "code",
   "execution_count": 11,
   "metadata": {},
   "outputs": [
    {
     "data": {
      "text/plain": [
       "['Martes', 'Miércoles', 'Jueves']"
      ]
     },
     "execution_count": 11,
     "metadata": {},
     "output_type": "execute_result"
    }
   ],
   "source": [
    "Dias[1:4]"
   ]
  },
  {
   "cell_type": "markdown",
   "metadata": {},
   "source": [
    "Si quiero extraer una lista que inicia con un índice i y termina en el final escribo `Lista[i:]`, por ejemplo: "
   ]
  },
  {
   "cell_type": "code",
   "execution_count": 12,
   "metadata": {},
   "outputs": [
    {
     "data": {
      "text/plain": [
       "['Jueves', 'Viernes', 'Sábado', 'Domingo']"
      ]
     },
     "execution_count": 12,
     "metadata": {},
     "output_type": "execute_result"
    }
   ],
   "source": [
    "Dias[3:]"
   ]
  },
  {
   "cell_type": "code",
   "execution_count": 13,
   "metadata": {},
   "outputs": [
    {
     "data": {
      "text/plain": [
       "['Viernes', 'Sábado', 'Domingo']"
      ]
     },
     "execution_count": 13,
     "metadata": {},
     "output_type": "execute_result"
    }
   ],
   "source": [
    "Dias[-3:]"
   ]
  },
  {
   "cell_type": "markdown",
   "metadata": {},
   "source": [
    "Si por el contrario busco extraer una lista que inicia desde el principio de la lista y termina con el elemento j escribimos `Lista[:j]`"
   ]
  },
  {
   "cell_type": "code",
   "execution_count": 14,
   "metadata": {},
   "outputs": [
    {
     "data": {
      "text/plain": [
       "['Lunes', 'Martes', 'Miércoles', 'Jueves']"
      ]
     },
     "execution_count": 14,
     "metadata": {},
     "output_type": "execute_result"
    }
   ],
   "source": [
    "Dias[:4]"
   ]
  },
  {
   "cell_type": "code",
   "execution_count": 15,
   "metadata": {},
   "outputs": [
    {
     "data": {
      "text/plain": [
       "'Viernes'"
      ]
     },
     "execution_count": 15,
     "metadata": {},
     "output_type": "execute_result"
    }
   ],
   "source": [
    "Dias[4]"
   ]
  },
  {
   "cell_type": "markdown",
   "metadata": {},
   "source": [
    "## Cambio de valores\n",
    "\n",
    "Podemos cambiar los elementos de una lista haciendo una reasignación, de la lista frutas y verduras `FV` cambiaremos el Brocoli por la Calabaza:"
   ]
  },
  {
   "cell_type": "code",
   "execution_count": 16,
   "metadata": {},
   "outputs": [
    {
     "data": {
      "text/plain": [
       "['Fresas', 'Papaya', 'Limón', 'Brocoli', 'Acelgas', 'Espinacas']"
      ]
     },
     "execution_count": 16,
     "metadata": {},
     "output_type": "execute_result"
    }
   ],
   "source": [
    "FV #Veamos la lista para identificar donde está el Brocoli"
   ]
  },
  {
   "cell_type": "code",
   "execution_count": 17,
   "metadata": {},
   "outputs": [],
   "source": [
    "FV[3]='Calabaza'"
   ]
  },
  {
   "cell_type": "code",
   "execution_count": 18,
   "metadata": {},
   "outputs": [
    {
     "data": {
      "text/plain": [
       "['Fresas', 'Papaya', 'Limón', 'Calabaza', 'Acelgas', 'Espinacas']"
      ]
     },
     "execution_count": 18,
     "metadata": {},
     "output_type": "execute_result"
    }
   ],
   "source": [
    "FV"
   ]
  },
  {
   "cell_type": "markdown",
   "metadata": {},
   "source": [
    "## Operaciones elementales de las listas\n",
    "\n",
    "Entre listas y para cada una de ellas tenemos diversas operaciones. \n",
    "\n",
    "**Suma (Concatenación)**\n",
    "\n",
    "Dada la lista $L=[L_1,L_2,L_3,\\cdots,L_n]$ y la lista $M=[M_1,M_2,\\cdots, M_k]$ tenemos que:\n",
    "\n",
    "$$L+M=[L_1,L_2,L_3,\\cdots,L_n,M_1,M_2,\\cdots, M_k]$$\n",
    "\n",
    "Por ejemplo:"
   ]
  },
  {
   "cell_type": "code",
   "execution_count": 19,
   "metadata": {},
   "outputs": [
    {
     "data": {
      "text/plain": [
       "['Lunes',\n",
       " 'Martes',\n",
       " 'Miércoles',\n",
       " 'Jueves',\n",
       " 'Viernes',\n",
       " 'Sábado',\n",
       " 'Domingo',\n",
       " 'Fresas',\n",
       " 'Papaya',\n",
       " 'Limón',\n",
       " 'Calabaza',\n",
       " 'Acelgas',\n",
       " 'Espinacas']"
      ]
     },
     "execution_count": 19,
     "metadata": {},
     "output_type": "execute_result"
    }
   ],
   "source": [
    "Dias+FV"
   ]
  },
  {
   "cell_type": "markdown",
   "metadata": {},
   "source": [
    "**Extender una lista**\n",
    "\n",
    "Podemos extender una lista con otra usando el comando `L1.extend(L2)`, en este caso el valor de L1 se actualizará con L1+L2.\n",
    "\n",
    "Ejemplo:\n"
   ]
  },
  {
   "cell_type": "code",
   "execution_count": 20,
   "metadata": {},
   "outputs": [
    {
     "name": "stdout",
     "output_type": "stream",
     "text": [
      "L1=  [2, 4, 6, 8]\n",
      "L2=  [1, 2, 3]\n",
      "L1.extend(L2)=  [2, 4, 6, 8, 1, 2, 3]\n",
      "L2.extend(L2)=  [1, 2, 3, 1, 2, 3]\n"
     ]
    }
   ],
   "source": [
    "L1=[2,4,6,8]\n",
    "L2=[1,2,3]\n",
    "print(\"L1= \",L1)\n",
    "print(\"L2= \",L2)\n",
    "L1.extend(L2)\n",
    "print(\"L1.extend(L2)= \",L1)\n",
    "L2.extend(L2)\n",
    "print(\"L2.extend(L2)= \",L2)"
   ]
  },
  {
   "cell_type": "code",
   "execution_count": 21,
   "metadata": {},
   "outputs": [
    {
     "data": {
      "text/plain": [
       "['Fresas',\n",
       " 'Papaya',\n",
       " 'Limón',\n",
       " 'Calabaza',\n",
       " 'Acelgas',\n",
       " 'Espinacas',\n",
       " 'Papaya',\n",
       " 'Pera',\n",
       " 'Mora',\n",
       " 'Rabano',\n",
       " 'Limón']"
      ]
     },
     "execution_count": 21,
     "metadata": {},
     "output_type": "execute_result"
    }
   ],
   "source": [
    "FV.extend([\"Papaya\",\"Pera\",\"Mora\",\"Rabano\",\"Limón\"])\n",
    "FV"
   ]
  },
  {
   "cell_type": "markdown",
   "metadata": {},
   "source": [
    "**Incluir elementos al final de la lista**\n",
    "\n",
    "El comando `L.append(v)` incluirá al valor `v` al final de la lista `L`."
   ]
  },
  {
   "cell_type": "code",
   "execution_count": 22,
   "metadata": {},
   "outputs": [],
   "source": [
    "Dias.append(\"Lunes\")"
   ]
  },
  {
   "cell_type": "code",
   "execution_count": 23,
   "metadata": {},
   "outputs": [
    {
     "data": {
      "text/plain": [
       "['Lunes',\n",
       " 'Martes',\n",
       " 'Miércoles',\n",
       " 'Jueves',\n",
       " 'Viernes',\n",
       " 'Sábado',\n",
       " 'Domingo',\n",
       " 'Lunes']"
      ]
     },
     "execution_count": 23,
     "metadata": {},
     "output_type": "execute_result"
    }
   ],
   "source": [
    "Dias"
   ]
  },
  {
   "cell_type": "code",
   "execution_count": 24,
   "metadata": {},
   "outputs": [],
   "source": [
    "FV.append(\"Papaya\")\n",
    "FV.append(\"Pera\")\n",
    "FV.append(\"Mango\")\n",
    "FV.append(\"Papa\")\n",
    "FV.append(\"Limón\")"
   ]
  },
  {
   "cell_type": "code",
   "execution_count": 25,
   "metadata": {},
   "outputs": [
    {
     "data": {
      "text/plain": [
       "['Fresas',\n",
       " 'Papaya',\n",
       " 'Limón',\n",
       " 'Calabaza',\n",
       " 'Acelgas',\n",
       " 'Espinacas',\n",
       " 'Papaya',\n",
       " 'Pera',\n",
       " 'Mora',\n",
       " 'Rabano',\n",
       " 'Limón',\n",
       " 'Papaya',\n",
       " 'Pera',\n",
       " 'Mango',\n",
       " 'Papa',\n",
       " 'Limón']"
      ]
     },
     "execution_count": 25,
     "metadata": {},
     "output_type": "execute_result"
    }
   ],
   "source": [
    "FV"
   ]
  },
  {
   "cell_type": "code",
   "execution_count": 32,
   "metadata": {},
   "outputs": [
    {
     "data": {
      "text/plain": [
       "[0, 1, 0]"
      ]
     },
     "execution_count": 32,
     "metadata": {},
     "output_type": "execute_result"
    }
   ],
   "source": [
    "L=[0,1]\n",
    "L.append(0)\n",
    "L"
   ]
  },
  {
   "cell_type": "markdown",
   "metadata": {},
   "source": [
    "**Contar elementos de una lista**\n",
    "\n",
    "El comando `L.count(v)` contará la cantidad de `v` que hay en la lista:"
   ]
  },
  {
   "cell_type": "code",
   "execution_count": 33,
   "metadata": {},
   "outputs": [
    {
     "data": {
      "text/plain": [
       "2"
      ]
     },
     "execution_count": 33,
     "metadata": {},
     "output_type": "execute_result"
    }
   ],
   "source": [
    "Dias.count(\"Lunes\")"
   ]
  },
  {
   "cell_type": "code",
   "execution_count": 34,
   "metadata": {},
   "outputs": [
    {
     "data": {
      "text/plain": [
       "1"
      ]
     },
     "execution_count": 34,
     "metadata": {},
     "output_type": "execute_result"
    }
   ],
   "source": [
    "Dias.count(\"Martes\")"
   ]
  },
  {
   "cell_type": "code",
   "execution_count": 35,
   "metadata": {},
   "outputs": [
    {
     "data": {
      "text/plain": [
       "0"
      ]
     },
     "execution_count": 35,
     "metadata": {},
     "output_type": "execute_result"
    }
   ],
   "source": [
    "Dias.count(\"otra cosa\")"
   ]
  },
  {
   "cell_type": "code",
   "execution_count": 36,
   "metadata": {},
   "outputs": [
    {
     "data": {
      "text/plain": [
       "3"
      ]
     },
     "execution_count": 36,
     "metadata": {},
     "output_type": "execute_result"
    }
   ],
   "source": [
    "FV.count(\"Papaya\")"
   ]
  },
  {
   "cell_type": "markdown",
   "metadata": {},
   "source": [
    "**Insertar elementos en una lista**\n",
    "\n",
    "El comando `L.insert(n,v)` incluirá un elemento nuevo en la lista:"
   ]
  },
  {
   "cell_type": "code",
   "execution_count": 56,
   "metadata": {},
   "outputs": [],
   "source": [
    "Dias.insert(3,\"Juernes\")"
   ]
  },
  {
   "cell_type": "code",
   "execution_count": 57,
   "metadata": {},
   "outputs": [
    {
     "data": {
      "text/plain": [
       "['Lunes',\n",
       " 'Martes',\n",
       " 'Miércoles',\n",
       " 'Juernes',\n",
       " 'Jueves',\n",
       " 'Juernes',\n",
       " 'Viernes',\n",
       " 'Sábado',\n",
       " 'Domingo']"
      ]
     },
     "execution_count": 57,
     "metadata": {},
     "output_type": "execute_result"
    }
   ],
   "source": [
    "Dias"
   ]
  },
  {
   "cell_type": "markdown",
   "metadata": {},
   "source": [
    "**Medir una lista**\n",
    "\n",
    "Con `len(L)` puedo medir una lista:"
   ]
  },
  {
   "cell_type": "code",
   "execution_count": 39,
   "metadata": {},
   "outputs": [
    {
     "data": {
      "text/plain": [
       "9"
      ]
     },
     "execution_count": 39,
     "metadata": {},
     "output_type": "execute_result"
    }
   ],
   "source": [
    "len(Dias)"
   ]
  },
  {
   "cell_type": "code",
   "execution_count": 40,
   "metadata": {},
   "outputs": [
    {
     "data": {
      "text/plain": [
       "16"
      ]
     },
     "execution_count": 40,
     "metadata": {},
     "output_type": "execute_result"
    }
   ],
   "source": [
    "len(FV)"
   ]
  },
  {
   "cell_type": "markdown",
   "metadata": {},
   "source": [
    "**Remover elementos de una lista**\n",
    "\n",
    "Para eso tenemos dos posibles procesos, usando `L.remove(v)`:"
   ]
  },
  {
   "cell_type": "code",
   "execution_count": 41,
   "metadata": {},
   "outputs": [],
   "source": [
    "Dias.remove(\"Juernes\")"
   ]
  },
  {
   "cell_type": "code",
   "execution_count": 42,
   "metadata": {},
   "outputs": [
    {
     "data": {
      "text/plain": [
       "['Lunes',\n",
       " 'Martes',\n",
       " 'Miércoles',\n",
       " 'Jueves',\n",
       " 'Viernes',\n",
       " 'Sábado',\n",
       " 'Domingo',\n",
       " 'Lunes']"
      ]
     },
     "execution_count": 42,
     "metadata": {},
     "output_type": "execute_result"
    }
   ],
   "source": [
    "Dias"
   ]
  },
  {
   "cell_type": "code",
   "execution_count": 43,
   "metadata": {},
   "outputs": [
    {
     "data": {
      "text/plain": [
       "['Martes', 'Miércoles', 'Jueves', 'Viernes', 'Sábado', 'Domingo', 'Lunes']"
      ]
     },
     "execution_count": 43,
     "metadata": {},
     "output_type": "execute_result"
    }
   ],
   "source": [
    "Dias.remove(\"Lunes\")\n",
    "Dias"
   ]
  },
  {
   "cell_type": "markdown",
   "metadata": {},
   "source": [
    "o usando el comando `L.pop(ind)`"
   ]
  },
  {
   "cell_type": "code",
   "execution_count": 58,
   "metadata": {},
   "outputs": [
    {
     "data": {
      "text/plain": [
       "['Lunes',\n",
       " 'Martes',\n",
       " 'Miércoles',\n",
       " 'Juernes',\n",
       " 'Jueves',\n",
       " 'Juernes',\n",
       " 'Viernes',\n",
       " 'Sábado',\n",
       " 'Domingo']"
      ]
     },
     "execution_count": 58,
     "metadata": {},
     "output_type": "execute_result"
    }
   ],
   "source": [
    "Dias"
   ]
  },
  {
   "cell_type": "code",
   "execution_count": 59,
   "metadata": {},
   "outputs": [
    {
     "data": {
      "text/plain": [
       "'Viernes'"
      ]
     },
     "execution_count": 59,
     "metadata": {},
     "output_type": "execute_result"
    }
   ],
   "source": [
    "Dias.pop(-3)"
   ]
  },
  {
   "cell_type": "code",
   "execution_count": 60,
   "metadata": {},
   "outputs": [
    {
     "data": {
      "text/plain": [
       "['Lunes',\n",
       " 'Martes',\n",
       " 'Miércoles',\n",
       " 'Juernes',\n",
       " 'Jueves',\n",
       " 'Juernes',\n",
       " 'Sábado',\n",
       " 'Domingo']"
      ]
     },
     "execution_count": 60,
     "metadata": {},
     "output_type": "execute_result"
    }
   ],
   "source": [
    "Dias"
   ]
  },
  {
   "cell_type": "code",
   "execution_count": 46,
   "metadata": {},
   "outputs": [
    {
     "data": {
      "text/plain": [
       "3"
      ]
     },
     "execution_count": 46,
     "metadata": {},
     "output_type": "execute_result"
    }
   ],
   "source": [
    "Dias.index(\"Viernes\")"
   ]
  },
  {
   "cell_type": "code",
   "execution_count": 47,
   "metadata": {},
   "outputs": [
    {
     "data": {
      "text/plain": [
       "1"
      ]
     },
     "execution_count": 47,
     "metadata": {},
     "output_type": "execute_result"
    }
   ],
   "source": [
    "FV.index(\"Papaya\")"
   ]
  },
  {
   "cell_type": "markdown",
   "metadata": {},
   "source": [
    "**Reversar una lista**\n",
    "\n",
    "El comando `L.reverse()` nos permitirá reversar la lista:"
   ]
  },
  {
   "cell_type": "code",
   "execution_count": 48,
   "metadata": {},
   "outputs": [],
   "source": [
    "Dias.reverse()"
   ]
  },
  {
   "cell_type": "code",
   "execution_count": 49,
   "metadata": {},
   "outputs": [
    {
     "data": {
      "text/plain": [
       "['Domingo', 'Sábado', 'Viernes', 'Jueves', 'Miércoles', 'Martes']"
      ]
     },
     "execution_count": 49,
     "metadata": {},
     "output_type": "execute_result"
    }
   ],
   "source": [
    "Dias"
   ]
  },
  {
   "cell_type": "markdown",
   "metadata": {},
   "source": [
    "**Limpiar una lista**\n",
    "\n",
    "Usamos el comando `L.clear()` para limpiar la lista:"
   ]
  },
  {
   "cell_type": "code",
   "execution_count": 50,
   "metadata": {},
   "outputs": [],
   "source": [
    "Dias.clear()"
   ]
  },
  {
   "cell_type": "code",
   "execution_count": 51,
   "metadata": {},
   "outputs": [
    {
     "data": {
      "text/plain": [
       "[]"
      ]
     },
     "execution_count": 51,
     "metadata": {},
     "output_type": "execute_result"
    }
   ],
   "source": [
    "Dias"
   ]
  },
  {
   "cell_type": "markdown",
   "metadata": {},
   "source": [
    "## Bucles para recorrer listas\n",
    "\n",
    "La estructura de control `for` en Python resulta ser muy útil para recorrer y definir listas, la sintaxis de Python permite acceder a los elementos de la lista a partir del `for` sin necesidad de utilizar índices."
   ]
  },
  {
   "cell_type": "code",
   "execution_count": 61,
   "metadata": {},
   "outputs": [
    {
     "name": "stdout",
     "output_type": "stream",
     "text": [
      "Fresas\n",
      "Papaya\n",
      "Limón\n",
      "Calabaza\n",
      "Acelgas\n",
      "Espinacas\n",
      "Papaya\n",
      "Pera\n",
      "Mora\n",
      "Rabano\n",
      "Limón\n",
      "Papaya\n",
      "Pera\n",
      "Mango\n",
      "Papa\n",
      "Limón\n"
     ]
    }
   ],
   "source": [
    "for frut_o_verd in FV:\n",
    "    print(frut_o_verd)"
   ]
  },
  {
   "cell_type": "code",
   "execution_count": 63,
   "metadata": {},
   "outputs": [
    {
     "data": {
      "text/plain": [
       "8"
      ]
     },
     "execution_count": 63,
     "metadata": {},
     "output_type": "execute_result"
    }
   ],
   "source": [
    "len(\"Calabaza\")"
   ]
  },
  {
   "cell_type": "code",
   "execution_count": 64,
   "metadata": {},
   "outputs": [
    {
     "name": "stdout",
     "output_type": "stream",
     "text": [
      "[6, 6, 5, 8, 7, 9, 6, 4, 4, 6, 5, 6, 4, 5, 4, 5]\n"
     ]
    }
   ],
   "source": [
    "cant_letras=[]\n",
    "for frut_o_verd in FV:\n",
    "    lon=len(frut_o_verd)\n",
    "    cant_letras.append(lon)\n",
    "print(cant_letras)"
   ]
  },
  {
   "cell_type": "code",
   "execution_count": 65,
   "metadata": {},
   "outputs": [
    {
     "data": {
      "text/plain": [
       "[6, 6, 5, 8, 7, 9, 6, 4, 4, 6, 5, 6, 4, 5, 4, 5]"
      ]
     },
     "execution_count": 65,
     "metadata": {},
     "output_type": "execute_result"
    }
   ],
   "source": [
    "[len(fv) for fv in FV]"
   ]
  },
  {
   "cell_type": "markdown",
   "metadata": {},
   "source": [
    "Al momento de definir listas usamos parentesis cuadrados, la condición que debe satisfacer el valor de la lista y el ciclo:\n",
    "\n",
    "***\n",
    "`[f(v) for v in L]`\n",
    "***\n"
   ]
  },
  {
   "cell_type": "code",
   "execution_count": 66,
   "metadata": {},
   "outputs": [
    {
     "data": {
      "text/plain": [
       "['Calabaza', 'Acelgas', 'Papaya', 'Pera']"
      ]
     },
     "execution_count": 66,
     "metadata": {},
     "output_type": "execute_result"
    }
   ],
   "source": [
    "SL=[3,4,6,7] #Extraigo una sublista a partir de los índices\n",
    "FV2=[FV[i] for i in SL]\n",
    "FV2"
   ]
  },
  {
   "cell_type": "code",
   "execution_count": 67,
   "metadata": {},
   "outputs": [
    {
     "data": {
      "text/plain": [
       "[1,\n",
       " 0.5,\n",
       " 0.25,\n",
       " 0.125,\n",
       " 0.0625,\n",
       " 0.03125,\n",
       " 0.015625,\n",
       " 0.0078125,\n",
       " 0.00390625,\n",
       " 0.001953125]"
      ]
     },
     "execution_count": 67,
     "metadata": {},
     "output_type": "execute_result"
    }
   ],
   "source": [
    "[2**(-i) for i in range(10)]"
   ]
  },
  {
   "cell_type": "code",
   "execution_count": 68,
   "metadata": {},
   "outputs": [
    {
     "data": {
      "text/plain": [
       "[0, 1, 2, 3, 4, 5, 6, 7, 8, 9]"
      ]
     },
     "execution_count": 68,
     "metadata": {},
     "output_type": "execute_result"
    }
   ],
   "source": [
    "[i for i in range(10)]"
   ]
  },
  {
   "cell_type": "markdown",
   "metadata": {},
   "source": [
    "## Rangos \n",
    "\n",
    "El tipo `range` es una lista inmodificable de números enteros escritos como una sucesión aritmética.\n",
    "\n",
    "En Python 3 este argumento se reconoce como un tipo de datos y usa uno, dos o tres argumentos numéricos, como si fuera una función."
   ]
  },
  {
   "cell_type": "code",
   "execution_count": 69,
   "metadata": {},
   "outputs": [
    {
     "data": {
      "text/plain": [
       "range(0, 10)"
      ]
     },
     "execution_count": 69,
     "metadata": {},
     "output_type": "execute_result"
    }
   ],
   "source": [
    "range(10)"
   ]
  },
  {
   "cell_type": "code",
   "execution_count": 70,
   "metadata": {},
   "outputs": [
    {
     "name": "stdout",
     "output_type": "stream",
     "text": [
      "0\n",
      "1\n",
      "2\n",
      "3\n",
      "4\n",
      "5\n",
      "6\n",
      "7\n",
      "8\n",
      "9\n"
     ]
    }
   ],
   "source": [
    "for i in range(10):\n",
    "    print(i)"
   ]
  },
  {
   "cell_type": "code",
   "execution_count": 73,
   "metadata": {},
   "outputs": [
    {
     "data": {
      "text/plain": [
       "[4, 5, 6, 7, 8, 9]"
      ]
     },
     "execution_count": 73,
     "metadata": {},
     "output_type": "execute_result"
    }
   ],
   "source": [
    "[i for i in range(4,10)]"
   ]
  },
  {
   "cell_type": "code",
   "execution_count": 71,
   "metadata": {},
   "outputs": [
    {
     "name": "stdout",
     "output_type": "stream",
     "text": [
      "4\n",
      "5\n",
      "6\n",
      "7\n",
      "8\n",
      "9\n"
     ]
    }
   ],
   "source": [
    "for i in range(4,10):\n",
    "    print(i)"
   ]
  },
  {
   "cell_type": "code",
   "execution_count": 76,
   "metadata": {},
   "outputs": [
    {
     "name": "stdout",
     "output_type": "stream",
     "text": [
      "4\n",
      "7\n"
     ]
    }
   ],
   "source": [
    "for i in range(4,10,3):\n",
    "    print(i)"
   ]
  },
  {
   "cell_type": "code",
   "execution_count": 75,
   "metadata": {},
   "outputs": [
    {
     "name": "stdout",
     "output_type": "stream",
     "text": [
      "3\n",
      "6\n",
      "9\n"
     ]
    }
   ],
   "source": [
    "for i in range(3,10,3):\n",
    "    print(i)"
   ]
  },
  {
   "cell_type": "code",
   "execution_count": 81,
   "metadata": {},
   "outputs": [
    {
     "data": {
      "text/plain": [
       "True"
      ]
     },
     "execution_count": 81,
     "metadata": {},
     "output_type": "execute_result"
    }
   ],
   "source": [
    "4!=5"
   ]
  },
  {
   "cell_type": "code",
   "execution_count": 83,
   "metadata": {},
   "outputs": [
    {
     "data": {
      "text/plain": [
       "False"
      ]
     },
     "execution_count": 83,
     "metadata": {},
     "output_type": "execute_result"
    }
   ],
   "source": [
    "4==5"
   ]
  },
  {
   "cell_type": "code",
   "execution_count": 84,
   "metadata": {},
   "outputs": [
    {
     "data": {
      "text/plain": [
       "False"
      ]
     },
     "execution_count": 84,
     "metadata": {},
     "output_type": "execute_result"
    }
   ],
   "source": [
    "2>4"
   ]
  },
  {
   "cell_type": "code",
   "execution_count": 85,
   "metadata": {},
   "outputs": [
    {
     "data": {
      "text/plain": [
       "True"
      ]
     },
     "execution_count": 85,
     "metadata": {},
     "output_type": "execute_result"
    }
   ],
   "source": [
    "\"Lunes\" in Dias"
   ]
  },
  {
   "cell_type": "code",
   "execution_count": 88,
   "metadata": {},
   "outputs": [
    {
     "data": {
      "text/plain": [
       "0"
      ]
     },
     "execution_count": 88,
     "metadata": {},
     "output_type": "execute_result"
    }
   ],
   "source": [
    "min([25%j for j in range(2,round(25**(0.5))+1) ])"
   ]
  },
  {
   "cell_type": "code",
   "execution_count": 96,
   "metadata": {},
   "outputs": [
    {
     "data": {
      "text/plain": [
       "[1, 2, 1, 4]"
      ]
     },
     "execution_count": 96,
     "metadata": {},
     "output_type": "execute_result"
    }
   ],
   "source": [
    "[29%j for j in range(2,round(29**(0.5))+1) ]"
   ]
  },
  {
   "cell_type": "code",
   "execution_count": 100,
   "metadata": {},
   "outputs": [
    {
     "data": {
      "text/plain": [
       "[2,\n",
       " 3,\n",
       " 5,\n",
       " 7,\n",
       " 11,\n",
       " 13,\n",
       " 17,\n",
       " 19,\n",
       " 23,\n",
       " 29,\n",
       " 31,\n",
       " 37,\n",
       " 41,\n",
       " 43,\n",
       " 47,\n",
       " 53,\n",
       " 59,\n",
       " 61,\n",
       " 67,\n",
       " 71,\n",
       " 73,\n",
       " 79,\n",
       " 83,\n",
       " 89,\n",
       " 97,\n",
       " 101,\n",
       " 103,\n",
       " 107,\n",
       " 109,\n",
       " 113,\n",
       " 127,\n",
       " 131,\n",
       " 137,\n",
       " 139,\n",
       " 149,\n",
       " 151,\n",
       " 157,\n",
       " 163,\n",
       " 167,\n",
       " 173,\n",
       " 179,\n",
       " 181,\n",
       " 191,\n",
       " 193,\n",
       " 197,\n",
       " 199]"
      ]
     },
     "execution_count": 100,
     "metadata": {},
     "output_type": "execute_result"
    }
   ],
   "source": [
    "Primos=[2]\n",
    "for i in range(3,200):\n",
    "    if min([i%j for j in range(2,round(i**(0.5))+1)])!=0:\n",
    "        Primos.append(i)\n",
    "        \n",
    "Primos"
   ]
  },
  {
   "cell_type": "markdown",
   "metadata": {},
   "source": [
    "## Enumerar listas\n",
    "\n",
    "Aunque una ventaja indiscutible del `for` de Python es que tenemos la posibilidad de recorrer la lista y no los índices, en ocasiones hace falta el índice del elemento de la lista, tenemos dos posibilidades:"
   ]
  },
  {
   "cell_type": "code",
   "execution_count": 101,
   "metadata": {},
   "outputs": [],
   "source": [
    "Dias=[\"Lunes\",\"Martes\",\"Miércoles\",\"Jueves\",\"Viernes\",\"Sábado\",\"Domingo\"]"
   ]
  },
  {
   "cell_type": "code",
   "execution_count": 102,
   "metadata": {},
   "outputs": [
    {
     "name": "stdout",
     "output_type": "stream",
     "text": [
      "Lunes es el 1 día de la semana\n",
      "Martes es el 2 día de la semana\n",
      "Miércoles es el 3 día de la semana\n",
      "Jueves es el 4 día de la semana\n",
      "Viernes es el 5 día de la semana\n",
      "Sábado es el 6 día de la semana\n",
      "Domingo es el 7 día de la semana\n"
     ]
    }
   ],
   "source": [
    "for ind in range(len(Dias)):\n",
    "    print(Dias[ind], \"es el\", ind+1,\"día de la semana\")"
   ]
  },
  {
   "cell_type": "code",
   "execution_count": 103,
   "metadata": {},
   "outputs": [
    {
     "name": "stdout",
     "output_type": "stream",
     "text": [
      "Lunes es el 1 día de la semana\n",
      "Martes es el 2 día de la semana\n",
      "Miércoles es el 3 día de la semana\n",
      "Jueves es el 4 día de la semana\n",
      "Viernes es el 5 día de la semana\n",
      "Sábado es el 6 día de la semana\n",
      "Domingo es el 7 día de la semana\n"
     ]
    }
   ],
   "source": [
    "for ind,i in enumerate(Dias):\n",
    "    print(i, \"es el\", ind+1,\"día de la semana\")"
   ]
  },
  {
   "cell_type": "code",
   "execution_count": 104,
   "metadata": {},
   "outputs": [
    {
     "name": "stdout",
     "output_type": "stream",
     "text": [
      "(0, 'Lunes')\n",
      "(1, 'Martes')\n",
      "(2, 'Miércoles')\n",
      "(3, 'Jueves')\n",
      "(4, 'Viernes')\n",
      "(5, 'Sábado')\n",
      "(6, 'Domingo')\n"
     ]
    }
   ],
   "source": [
    "for i in enumerate(Dias):\n",
    "    print(i)"
   ]
  },
  {
   "cell_type": "code",
   "execution_count": 105,
   "metadata": {},
   "outputs": [
    {
     "data": {
      "text/plain": [
       "enumerate"
      ]
     },
     "execution_count": 105,
     "metadata": {},
     "output_type": "execute_result"
    }
   ],
   "source": [
    "type(enumerate(Dias))"
   ]
  },
  {
   "cell_type": "markdown",
   "metadata": {},
   "source": [
    "## Pertenencia en una lista\n",
    "\n",
    "Podemos establecer si un calor está o no está en una lista con el comando `in`:"
   ]
  },
  {
   "cell_type": "code",
   "execution_count": 106,
   "metadata": {},
   "outputs": [
    {
     "data": {
      "text/plain": [
       "True"
      ]
     },
     "execution_count": 106,
     "metadata": {},
     "output_type": "execute_result"
    }
   ],
   "source": [
    "\"Lunes\" in Dias"
   ]
  },
  {
   "cell_type": "code",
   "execution_count": 107,
   "metadata": {},
   "outputs": [
    {
     "data": {
      "text/plain": [
       "False"
      ]
     },
     "execution_count": 107,
     "metadata": {},
     "output_type": "execute_result"
    }
   ],
   "source": [
    "\"Lunes\" in FV"
   ]
  },
  {
   "cell_type": "code",
   "execution_count": 108,
   "metadata": {},
   "outputs": [
    {
     "data": {
      "text/plain": [
       "['Fresas',\n",
       " 'Papaya',\n",
       " 'Limón',\n",
       " 'Calabaza',\n",
       " 'Acelgas',\n",
       " 'Espinacas',\n",
       " 'Papaya',\n",
       " 'Pera',\n",
       " 'Mora',\n",
       " 'Rabano',\n",
       " 'Limón',\n",
       " 'Papaya',\n",
       " 'Pera',\n",
       " 'Mango',\n",
       " 'Papa',\n",
       " 'Limón']"
      ]
     },
     "execution_count": 108,
     "metadata": {},
     "output_type": "execute_result"
    }
   ],
   "source": [
    "FV"
   ]
  },
  {
   "cell_type": "code",
   "execution_count": 109,
   "metadata": {},
   "outputs": [],
   "source": [
    "V=['Brocoli', 'Acelgas', 'Espinacas']"
   ]
  },
  {
   "cell_type": "code",
   "execution_count": 112,
   "metadata": {},
   "outputs": [
    {
     "name": "stdout",
     "output_type": "stream",
     "text": [
      "Fresas  es fruta.\n",
      "Papaya  es fruta.\n",
      "Limón  es fruta.\n",
      "Calabaza  es fruta.\n",
      "Acelgas  es verdura.\n",
      "Espinacas  es verdura.\n",
      "Papaya  es fruta.\n",
      "Pera  es fruta.\n",
      "Mora  es fruta.\n",
      "Rabano  es fruta.\n",
      "Limón  es fruta.\n",
      "Papaya  es fruta.\n",
      "Pera  es fruta.\n",
      "Mango  es fruta.\n",
      "Papa  es fruta.\n",
      "Limón  es fruta.\n"
     ]
    }
   ],
   "source": [
    "F=[]\n",
    "for v in FV:\n",
    "    if v in V:\n",
    "        print(v,\" es verdura.\")\n",
    "    else:\n",
    "        print(v,\" es fruta.\")\n",
    "        F.append(v)"
   ]
  },
  {
   "cell_type": "code",
   "execution_count": 111,
   "metadata": {},
   "outputs": [
    {
     "data": {
      "text/plain": [
       "['Fresas',\n",
       " 'Papaya',\n",
       " 'Limón',\n",
       " 'Calabaza',\n",
       " 'Papaya',\n",
       " 'Pera',\n",
       " 'Mora',\n",
       " 'Rabano',\n",
       " 'Limón',\n",
       " 'Papaya',\n",
       " 'Pera',\n",
       " 'Mango',\n",
       " 'Papa',\n",
       " 'Limón']"
      ]
     },
     "execution_count": 111,
     "metadata": {},
     "output_type": "execute_result"
    }
   ],
   "source": [
    "F"
   ]
  },
  {
   "cell_type": "code",
   "execution_count": 118,
   "metadata": {},
   "outputs": [
    {
     "data": {
      "text/plain": [
       "'Afdc'"
      ]
     },
     "execution_count": 118,
     "metadata": {},
     "output_type": "execute_result"
    }
   ],
   "source": [
    "\"afdc\".capitalize()"
   ]
  },
  {
   "cell_type": "markdown",
   "metadata": {
    "solution2": "shown",
    "solution2_first": true
   },
   "source": [
    "**Ejercicio** Lo hace muy mal, permitamos que nos pregunte y recreamos la lista de Frutas y Verduras:"
   ]
  },
  {
   "cell_type": "code",
   "execution_count": 120,
   "metadata": {
    "solution2": "shown"
   },
   "outputs": [
    {
     "name": "stdout",
     "output_type": "stream",
     "text": [
      "Fresas\n",
      " es fruta (marque F) o Verdura (marque V)\n",
      "Esa respuesta no fue correcta\n",
      "Papaya\n",
      " es fruta (marque F) o Verdura (marque V)f\n",
      "Limón\n",
      " es fruta (marque F) o Verdura (marque V)f\n",
      "Calabaza\n",
      " es fruta (marque F) o Verdura (marque V)v\n",
      "Acelgas\n",
      " es fruta (marque F) o Verdura (marque V)v\n",
      "Espinacas\n",
      " es fruta (marque F) o Verdura (marque V)v\n",
      "Papaya\n",
      " es fruta (marque F) o Verdura (marque V)f\n",
      "Pera\n",
      " es fruta (marque F) o Verdura (marque V)f\n",
      "Mora\n",
      " es fruta (marque F) o Verdura (marque V)v\n",
      "Rabano\n",
      " es fruta (marque F) o Verdura (marque V)v\n",
      "Limón\n",
      " es fruta (marque F) o Verdura (marque V)f\n",
      "Papaya\n",
      " es fruta (marque F) o Verdura (marque V)f\n",
      "Pera\n",
      " es fruta (marque F) o Verdura (marque V)f\n",
      "Mango\n",
      " es fruta (marque F) o Verdura (marque V)f\n",
      "Papa\n",
      " es fruta (marque F) o Verdura (marque V)v\n",
      "Limón\n",
      " es fruta (marque F) o Verdura (marque V)f\n",
      "Frutas:  ['Papaya', 'Limón', 'Papaya', 'Pera', 'Limón', 'Papaya', 'Pera', 'Mango', 'Limón']\n",
      "Verduras:  ['Calabaza', 'Acelgas', 'Espinacas', 'Mora', 'Rabano', 'Papa']\n",
      "Sin clasificar:  ['Fresas']\n"
     ]
    }
   ],
   "source": [
    "F=[]\n",
    "V=[]\n",
    "SC=FV.copy()\n",
    "\n",
    "for fv in FV:\n",
    "    print(fv)\n",
    "    L=input(\" es fruta (marque F) o Verdura (marque V)\")\n",
    "    if L.capitalize()==\"F\":        \n",
    "        SC.remove(fv)\n",
    "        F.append(fv)\n",
    "    elif L.capitalize()==\"V\":\n",
    "        SC.remove(fv)\n",
    "        V.append(fv)\n",
    "    else:\n",
    "        print(\"Esa respuesta no fue correcta\")\n",
    "print(\"Frutas: \",F)\n",
    "print(\"Verduras: \",V)\n",
    "print(\"Sin clasificar: \",SC)"
   ]
  },
  {
   "cell_type": "markdown",
   "metadata": {},
   "source": [
    "Si quisiera clasificar todas las frutas y verduras utilizaría otro bucle: `while`"
   ]
  },
  {
   "cell_type": "code",
   "execution_count": 122,
   "metadata": {
    "scrolled": true
   },
   "outputs": [
    {
     "name": "stdout",
     "output_type": "stream",
     "text": [
      "Fresas\n",
      " es fruta (marque F) o Verdura (marque V)f\n",
      "Papaya\n",
      " es fruta (marque F) o Verdura (marque V)f\n",
      "Limón\n",
      " es fruta (marque F) o Verdura (marque V)f\n",
      "Calabaza\n",
      " es fruta (marque F) o Verdura (marque V)v\n",
      "Acelgas\n",
      " es fruta (marque F) o Verdura (marque V)v\n",
      "Espinacas\n",
      " es fruta (marque F) o Verdura (marque V)v\n",
      "Papaya\n",
      " es fruta (marque F) o Verdura (marque V)f\n",
      "Pera\n",
      " es fruta (marque F) o Verdura (marque V)f\n",
      "Mora\n",
      " es fruta (marque F) o Verdura (marque V)f\n",
      "Rabano\n",
      " es fruta (marque F) o Verdura (marque V)v\n",
      "Limón\n",
      " es fruta (marque F) o Verdura (marque V)f\n",
      "Papaya\n",
      " es fruta (marque F) o Verdura (marque V)cdd\n",
      "Esa respuesta no fue correcta\n",
      "Pera\n",
      " es fruta (marque F) o Verdura (marque V)f\n",
      "Mango\n",
      " es fruta (marque F) o Verdura (marque V)dsds\n",
      "Esa respuesta no fue correcta\n",
      "Papa\n",
      " es fruta (marque F) o Verdura (marque V)no se\n",
      "Esa respuesta no fue correcta\n",
      "Limón\n",
      " es fruta (marque F) o Verdura (marque V)f\n",
      "Frutas:  ['Fresas', 'Papaya', 'Limón', 'Papaya', 'Pera', 'Mora', 'Limón', 'Pera', 'Limón']\n",
      "Verduras:  ['Calabaza', 'Acelgas', 'Espinacas', 'Rabano']\n",
      "Sin clasificar:  ['Papaya', 'Mango', 'Papa']\n",
      "Papaya\n",
      " es fruta (marque F) o Verdura (marque V)f\n",
      "Mango\n",
      " es fruta (marque F) o Verdura (marque V)dfdf\n",
      "Esa respuesta no fue correcta\n",
      "Papa\n",
      " es fruta (marque F) o Verdura (marque V)nose\n",
      "Esa respuesta no fue correcta\n",
      "Frutas:  ['Fresas', 'Papaya', 'Limón', 'Papaya', 'Pera', 'Mora', 'Limón', 'Pera', 'Limón', 'Papaya']\n",
      "Verduras:  ['Calabaza', 'Acelgas', 'Espinacas', 'Rabano']\n",
      "Sin clasificar:  ['Mango', 'Papa']\n",
      "Mango\n",
      " es fruta (marque F) o Verdura (marque V)f\n",
      "Papa\n",
      " es fruta (marque F) o Verdura (marque V)v\n",
      "Frutas:  ['Fresas', 'Papaya', 'Limón', 'Papaya', 'Pera', 'Mora', 'Limón', 'Pera', 'Limón', 'Papaya', 'Mango']\n",
      "Verduras:  ['Calabaza', 'Acelgas', 'Espinacas', 'Rabano', 'Papa']\n",
      "Sin clasificar:  []\n"
     ]
    }
   ],
   "source": [
    "F=[]\n",
    "V=[]\n",
    "SC=FV.copy()\n",
    "\n",
    "while len(SC)>0:\n",
    "    ol=SC.copy()\n",
    "    for fv in ol:\n",
    "        print(fv)\n",
    "        L=input(\" es fruta (marque F) o Verdura (marque V)\")\n",
    "        if L.upper()==\"F\":        \n",
    "            SC.remove(fv)\n",
    "            F.append(fv)\n",
    "        elif L.upper()==\"V\":\n",
    "            SC.remove(fv)\n",
    "            V.append(fv)\n",
    "        else:\n",
    "            print(\"Esa respuesta no fue correcta\")\n",
    "    print(\"Frutas: \",F)\n",
    "    print(\"Verduras: \",V)\n",
    "    print(\"Sin clasificar: \",SC)"
   ]
  },
  {
   "cell_type": "code",
   "execution_count": 123,
   "metadata": {},
   "outputs": [
    {
     "data": {
      "text/plain": [
       "['Fresas',\n",
       " 'Papaya',\n",
       " 'Limón',\n",
       " 'Papaya',\n",
       " 'Pera',\n",
       " 'Mora',\n",
       " 'Limón',\n",
       " 'Pera',\n",
       " 'Limón',\n",
       " 'Papaya',\n",
       " 'Mango']"
      ]
     },
     "execution_count": 123,
     "metadata": {},
     "output_type": "execute_result"
    }
   ],
   "source": [
    "F"
   ]
  },
  {
   "cell_type": "code",
   "execution_count": 124,
   "metadata": {},
   "outputs": [
    {
     "data": {
      "text/plain": [
       "['Calabaza', 'Acelgas', 'Espinacas', 'Rabano', 'Papa']"
      ]
     },
     "execution_count": 124,
     "metadata": {},
     "output_type": "execute_result"
    }
   ],
   "source": [
    "V"
   ]
  },
  {
   "cell_type": "markdown",
   "metadata": {},
   "source": [
    "# Tuplas\n",
    "\n",
    "Las tuplas son una estructura de datos similar a las listas pero inmodificables, se encierran con paréntesis redondos.\n"
   ]
  },
  {
   "cell_type": "code",
   "execution_count": 125,
   "metadata": {},
   "outputs": [],
   "source": [
    "Tupla1=(\"eje_x\",\"eje_y\",\"eje_z\")"
   ]
  },
  {
   "cell_type": "code",
   "execution_count": 126,
   "metadata": {},
   "outputs": [
    {
     "data": {
      "text/plain": [
       "1"
      ]
     },
     "execution_count": 126,
     "metadata": {},
     "output_type": "execute_result"
    }
   ],
   "source": [
    "Tupla1.count(\"eje_x\")"
   ]
  },
  {
   "cell_type": "code",
   "execution_count": 127,
   "metadata": {},
   "outputs": [
    {
     "data": {
      "text/plain": [
       "2"
      ]
     },
     "execution_count": 127,
     "metadata": {},
     "output_type": "execute_result"
    }
   ],
   "source": [
    "Tupla1.index(\"eje_z\")"
   ]
  },
  {
   "cell_type": "markdown",
   "metadata": {},
   "source": [
    "La indexación es similar a la de las listas:"
   ]
  },
  {
   "cell_type": "code",
   "execution_count": 128,
   "metadata": {},
   "outputs": [
    {
     "data": {
      "text/plain": [
       "'eje_x'"
      ]
     },
     "execution_count": 128,
     "metadata": {},
     "output_type": "execute_result"
    }
   ],
   "source": [
    "Tupla1[0]"
   ]
  },
  {
   "cell_type": "code",
   "execution_count": 129,
   "metadata": {},
   "outputs": [
    {
     "data": {
      "text/plain": [
       "'eje_z'"
      ]
     },
     "execution_count": 129,
     "metadata": {},
     "output_type": "execute_result"
    }
   ],
   "source": [
    "Tupla1[-1]"
   ]
  },
  {
   "cell_type": "code",
   "execution_count": 130,
   "metadata": {},
   "outputs": [
    {
     "data": {
      "text/plain": [
       "('eje_y', 'eje_z')"
      ]
     },
     "execution_count": 130,
     "metadata": {},
     "output_type": "execute_result"
    }
   ],
   "source": [
    "Tupla1[1:]"
   ]
  },
  {
   "cell_type": "code",
   "execution_count": 132,
   "metadata": {},
   "outputs": [
    {
     "ename": "TypeError",
     "evalue": "'tuple' object does not support item assignment",
     "output_type": "error",
     "traceback": [
      "\u001b[0;31m---------------------------------------------------------------------------\u001b[0m",
      "\u001b[0;31mTypeError\u001b[0m                                 Traceback (most recent call last)",
      "\u001b[0;32m<ipython-input-132-a18936e3c827>\u001b[0m in \u001b[0;36m<module>\u001b[0;34m\u001b[0m\n\u001b[0;32m----> 1\u001b[0;31m \u001b[0mTupla1\u001b[0m\u001b[0;34m[\u001b[0m\u001b[0;36m0\u001b[0m\u001b[0;34m]\u001b[0m\u001b[0;34m=\u001b[0m\u001b[0;34m\"X\"\u001b[0m\u001b[0;34m\u001b[0m\u001b[0;34m\u001b[0m\u001b[0m\n\u001b[0m",
      "\u001b[0;31mTypeError\u001b[0m: 'tuple' object does not support item assignment"
     ]
    }
   ],
   "source": [
    "Tupla1[0]=\"X\""
   ]
  },
  {
   "cell_type": "code",
   "execution_count": 133,
   "metadata": {},
   "outputs": [
    {
     "data": {
      "text/plain": [
       "(1, 2, 3, 'Hola', 'Chao')"
      ]
     },
     "execution_count": 133,
     "metadata": {},
     "output_type": "execute_result"
    }
   ],
   "source": [
    "(1,2,3)+(\"Hola\",\"Chao\")"
   ]
  },
  {
   "cell_type": "markdown",
   "metadata": {},
   "source": [
    "La creación de una tupla unitaria requiere una coma final:"
   ]
  },
  {
   "cell_type": "code",
   "execution_count": 135,
   "metadata": {},
   "outputs": [],
   "source": [
    "Tupla2=(\"solo\",)"
   ]
  },
  {
   "cell_type": "code",
   "execution_count": 136,
   "metadata": {},
   "outputs": [
    {
     "data": {
      "text/plain": [
       "('solo',)"
      ]
     },
     "execution_count": 136,
     "metadata": {},
     "output_type": "execute_result"
    }
   ],
   "source": [
    "Tupla2"
   ]
  },
  {
   "cell_type": "code",
   "execution_count": 134,
   "metadata": {},
   "outputs": [
    {
     "data": {
      "text/plain": [
       "'solo'"
      ]
     },
     "execution_count": 134,
     "metadata": {},
     "output_type": "execute_result"
    }
   ],
   "source": [
    "Tuplamala=(\"solo\")\n",
    "Tuplamala"
   ]
  },
  {
   "cell_type": "markdown",
   "metadata": {},
   "source": [
    "Tupla desde una lista u otra tupla:"
   ]
  },
  {
   "cell_type": "code",
   "execution_count": 138,
   "metadata": {},
   "outputs": [
    {
     "data": {
      "text/plain": [
       "('Lunes', 'Martes', 'Miércoles', 'Jueves', 'Viernes', 'Sábado', 'Domingo')"
      ]
     },
     "execution_count": 138,
     "metadata": {},
     "output_type": "execute_result"
    }
   ],
   "source": [
    "DiasT=tuple((Dias))\n",
    "DiasT"
   ]
  },
  {
   "cell_type": "code",
   "execution_count": 139,
   "metadata": {},
   "outputs": [
    {
     "data": {
      "text/plain": [
       "(1, 2, 3)"
      ]
     },
     "execution_count": 139,
     "metadata": {},
     "output_type": "execute_result"
    }
   ],
   "source": [
    "tuple((Tupla1.index(i)+1 for i in Tupla1))"
   ]
  },
  {
   "cell_type": "code",
   "execution_count": 140,
   "metadata": {},
   "outputs": [
    {
     "data": {
      "text/plain": [
       "(1, 2, 2, 1)"
      ]
     },
     "execution_count": 140,
     "metadata": {},
     "output_type": "execute_result"
    }
   ],
   "source": [
    "(1,2)+(2,1)"
   ]
  },
  {
   "cell_type": "markdown",
   "metadata": {},
   "source": [
    "# Conjuntos\n",
    "\n",
    "Los conjuntos son colecciones de elementos sin indíces y sin orden, se definen entre corchetes `{ . . . }`"
   ]
  },
  {
   "cell_type": "code",
   "execution_count": 141,
   "metadata": {},
   "outputs": [],
   "source": [
    "Set1={\"Nairo\", \"Egan\",\"Rigo\",\"Rigo\"}"
   ]
  },
  {
   "cell_type": "code",
   "execution_count": 142,
   "metadata": {},
   "outputs": [
    {
     "data": {
      "text/plain": [
       "{'Egan', 'Nairo', 'Rigo'}"
      ]
     },
     "execution_count": 142,
     "metadata": {},
     "output_type": "execute_result"
    }
   ],
   "source": [
    "Set1"
   ]
  },
  {
   "cell_type": "code",
   "execution_count": 143,
   "metadata": {},
   "outputs": [
    {
     "ename": "TypeError",
     "evalue": "'set' object is not subscriptable",
     "output_type": "error",
     "traceback": [
      "\u001b[0;31m---------------------------------------------------------------------------\u001b[0m",
      "\u001b[0;31mTypeError\u001b[0m                                 Traceback (most recent call last)",
      "\u001b[0;32m<ipython-input-143-3dd142335144>\u001b[0m in \u001b[0;36m<module>\u001b[0;34m\u001b[0m\n\u001b[0;32m----> 1\u001b[0;31m \u001b[0mSet1\u001b[0m\u001b[0;34m[\u001b[0m\u001b[0;36m2\u001b[0m\u001b[0;34m]\u001b[0m\u001b[0;34m\u001b[0m\u001b[0;34m\u001b[0m\u001b[0m\n\u001b[0m",
      "\u001b[0;31mTypeError\u001b[0m: 'set' object is not subscriptable"
     ]
    }
   ],
   "source": [
    "Set1[2]"
   ]
  },
  {
   "cell_type": "markdown",
   "metadata": {},
   "source": [
    "Podemos convertir listas en conjuntos con el comando `set()`"
   ]
  },
  {
   "cell_type": "code",
   "execution_count": 144,
   "metadata": {},
   "outputs": [
    {
     "data": {
      "text/plain": [
       "['Fresas',\n",
       " 'Papaya',\n",
       " 'Limón',\n",
       " 'Calabaza',\n",
       " 'Acelgas',\n",
       " 'Espinacas',\n",
       " 'Papaya',\n",
       " 'Pera',\n",
       " 'Mora',\n",
       " 'Rabano',\n",
       " 'Limón',\n",
       " 'Papaya',\n",
       " 'Pera',\n",
       " 'Mango',\n",
       " 'Papa',\n",
       " 'Limón']"
      ]
     },
     "execution_count": 144,
     "metadata": {},
     "output_type": "execute_result"
    }
   ],
   "source": [
    "FV"
   ]
  },
  {
   "cell_type": "code",
   "execution_count": 145,
   "metadata": {},
   "outputs": [],
   "source": [
    "CtoFV=set(FV)"
   ]
  },
  {
   "cell_type": "code",
   "execution_count": 146,
   "metadata": {},
   "outputs": [
    {
     "data": {
      "text/plain": [
       "{'Acelgas',\n",
       " 'Calabaza',\n",
       " 'Espinacas',\n",
       " 'Fresas',\n",
       " 'Limón',\n",
       " 'Mango',\n",
       " 'Mora',\n",
       " 'Papa',\n",
       " 'Papaya',\n",
       " 'Pera',\n",
       " 'Rabano'}"
      ]
     },
     "execution_count": 146,
     "metadata": {},
     "output_type": "execute_result"
    }
   ],
   "source": [
    "CtoFV"
   ]
  },
  {
   "cell_type": "markdown",
   "metadata": {},
   "source": [
    "Varias de las operaciones entre listas y operaciones entre conjuntos podemos usar aquí:"
   ]
  },
  {
   "cell_type": "code",
   "execution_count": 147,
   "metadata": {},
   "outputs": [],
   "source": [
    "CtoFV.add(\"Naranja\") ## Agregar un elemento"
   ]
  },
  {
   "cell_type": "code",
   "execution_count": 148,
   "metadata": {},
   "outputs": [
    {
     "data": {
      "text/plain": [
       "{'Acelgas',\n",
       " 'Calabaza',\n",
       " 'Espinacas',\n",
       " 'Fresas',\n",
       " 'Limón',\n",
       " 'Mango',\n",
       " 'Mora',\n",
       " 'Naranja',\n",
       " 'Papa',\n",
       " 'Papaya',\n",
       " 'Pera',\n",
       " 'Rabano'}"
      ]
     },
     "execution_count": 148,
     "metadata": {},
     "output_type": "execute_result"
    }
   ],
   "source": [
    "CtoFV"
   ]
  },
  {
   "cell_type": "code",
   "execution_count": 149,
   "metadata": {},
   "outputs": [],
   "source": [
    "CtoF,CtoV=set(F),set(V)"
   ]
  },
  {
   "cell_type": "code",
   "execution_count": 150,
   "metadata": {},
   "outputs": [
    {
     "data": {
      "text/plain": [
       "{'Fresas', 'Limón', 'Mango', 'Mora', 'Papaya', 'Pera'}"
      ]
     },
     "execution_count": 150,
     "metadata": {},
     "output_type": "execute_result"
    }
   ],
   "source": [
    "CtoF"
   ]
  },
  {
   "cell_type": "code",
   "execution_count": 151,
   "metadata": {},
   "outputs": [
    {
     "data": {
      "text/plain": [
       "{'Acelgas', 'Calabaza', 'Espinacas', 'Papa', 'Rabano'}"
      ]
     },
     "execution_count": 151,
     "metadata": {},
     "output_type": "execute_result"
    }
   ],
   "source": [
    "CtoV"
   ]
  },
  {
   "cell_type": "code",
   "execution_count": 152,
   "metadata": {},
   "outputs": [],
   "source": [
    "Otro_Cto=CtoF.union(CtoV)## Unión de conjuntos"
   ]
  },
  {
   "cell_type": "code",
   "execution_count": 153,
   "metadata": {},
   "outputs": [
    {
     "data": {
      "text/plain": [
       "{'Acelgas',\n",
       " 'Calabaza',\n",
       " 'Espinacas',\n",
       " 'Fresas',\n",
       " 'Limón',\n",
       " 'Mango',\n",
       " 'Mora',\n",
       " 'Papa',\n",
       " 'Papaya',\n",
       " 'Pera',\n",
       " 'Rabano'}"
      ]
     },
     "execution_count": 153,
     "metadata": {},
     "output_type": "execute_result"
    }
   ],
   "source": [
    "Otro_Cto"
   ]
  },
  {
   "cell_type": "code",
   "execution_count": 154,
   "metadata": {},
   "outputs": [
    {
     "data": {
      "text/plain": [
       "{'Acelgas',\n",
       " 'Calabaza',\n",
       " 'Espinacas',\n",
       " 'Fresas',\n",
       " 'Limón',\n",
       " 'Mango',\n",
       " 'Mora',\n",
       " 'Papa',\n",
       " 'Papaya',\n",
       " 'Pera',\n",
       " 'Rabano'}"
      ]
     },
     "execution_count": 154,
     "metadata": {},
     "output_type": "execute_result"
    }
   ],
   "source": [
    "Otro_Cto.intersection(CtoFV) ##intersección"
   ]
  },
  {
   "cell_type": "code",
   "execution_count": 155,
   "metadata": {},
   "outputs": [
    {
     "data": {
      "text/plain": [
       "{'Naranja'}"
      ]
     },
     "execution_count": 155,
     "metadata": {},
     "output_type": "execute_result"
    }
   ],
   "source": [
    "CtoFV.difference(Otro_Cto)##Diferencia"
   ]
  },
  {
   "cell_type": "code",
   "execution_count": 156,
   "metadata": {},
   "outputs": [],
   "source": [
    "Set1.discard(\"Egan\")## Eliminar elementod"
   ]
  },
  {
   "cell_type": "code",
   "execution_count": 157,
   "metadata": {},
   "outputs": [
    {
     "data": {
      "text/plain": [
       "{'Nairo', 'Rigo'}"
      ]
     },
     "execution_count": 157,
     "metadata": {},
     "output_type": "execute_result"
    }
   ],
   "source": [
    "Set1"
   ]
  },
  {
   "cell_type": "code",
   "execution_count": 158,
   "metadata": {},
   "outputs": [
    {
     "data": {
      "text/plain": [
       "set"
      ]
     },
     "execution_count": 158,
     "metadata": {},
     "output_type": "execute_result"
    }
   ],
   "source": [
    "type(Set1)"
   ]
  },
  {
   "cell_type": "markdown",
   "metadata": {
    "solution2": "shown",
    "solution2_first": true
   },
   "source": [
    "**Ejercicio** Arreglando el problema de la clasificación de frutas y verduras:"
   ]
  },
  {
   "cell_type": "code",
   "execution_count": 159,
   "metadata": {
    "solution2": "shown"
   },
   "outputs": [
    {
     "name": "stdout",
     "output_type": "stream",
     "text": [
      "Rabano\n",
      " es fruta (marque F) o Verdura (marque V)F\n",
      "Mango\n",
      " es fruta (marque F) o Verdura (marque V)F\n",
      "Calabaza\n",
      " es fruta (marque F) o Verdura (marque V)V\n",
      "Espinacas\n",
      " es fruta (marque F) o Verdura (marque V)F\n",
      "Naranja\n",
      " es fruta (marque F) o Verdura (marque V)F\n",
      "Acelgas\n",
      " es fruta (marque F) o Verdura (marque V)V\n",
      "Papaya\n",
      " es fruta (marque F) o Verdura (marque V)F\n",
      "Papa\n",
      " es fruta (marque F) o Verdura (marque V)V\n",
      "Pera\n",
      " es fruta (marque F) o Verdura (marque V)F\n",
      "Limón\n",
      " es fruta (marque F) o Verdura (marque V)F\n",
      "Mora\n",
      " es fruta (marque F) o Verdura (marque V)F\n",
      "Fresas\n",
      " es fruta (marque F) o Verdura (marque V)F\n",
      "Frutas:  {'Mango', 'Rabano', 'Espinacas', 'Naranja', 'Papaya', 'Pera', 'Limón', 'Mora', 'Fresas'}\n",
      "Verduras:  {'Papa', 'Acelgas', 'Calabaza'}\n",
      "Sin clasificar:  set()\n"
     ]
    }
   ],
   "source": [
    "F=set()\n",
    "V=set()\n",
    "SC=CtoFV.copy()\n",
    "\n",
    "while len(SC)>0:\n",
    "    ol=SC.copy()\n",
    "    for fv in ol:\n",
    "        print(fv)\n",
    "        L=input(\" es fruta (marque F) o Verdura (marque V)\")\n",
    "        if L==\"F\":        \n",
    "            SC.remove(fv)\n",
    "            F.add(fv)\n",
    "        elif L==\"V\":\n",
    "            SC.remove(fv)\n",
    "            V.add(fv)\n",
    "        else:\n",
    "            print(\"Esa respuesta no fue correcta\")\n",
    "    print(\"Frutas: \",F)\n",
    "    print(\"Verduras: \",V)\n",
    "    print(\"Sin clasificar: \",SC)"
   ]
  },
  {
   "cell_type": "code",
   "execution_count": 160,
   "metadata": {},
   "outputs": [
    {
     "data": {
      "text/plain": [
       "6"
      ]
     },
     "execution_count": 160,
     "metadata": {},
     "output_type": "execute_result"
    }
   ],
   "source": [
    "len(CtoF)"
   ]
  },
  {
   "cell_type": "code",
   "execution_count": 161,
   "metadata": {},
   "outputs": [
    {
     "data": {
      "text/plain": [
       "['Mango', 'Papaya', 'Pera', 'Limón', 'Mora', 'Fresas']"
      ]
     },
     "execution_count": 161,
     "metadata": {},
     "output_type": "execute_result"
    }
   ],
   "source": [
    "list(CtoF)"
   ]
  },
  {
   "cell_type": "markdown",
   "metadata": {},
   "source": [
    "# Diccionarios\n",
    "Un diccionario es una colección de elementos indexable, sin orden y modificable. Se escriben entre corchetes y los elementos cuentan con un identificador que llamamos clave o \"key\". \n"
   ]
  },
  {
   "cell_type": "code",
   "execution_count": 162,
   "metadata": {},
   "outputs": [],
   "source": [
    "UEC={\"Nombre\": \"Universidad Externado de Colombia\", \"Año de fundación\":1886,\n",
    "              \"Fundador\":\"Nicolás Pinzón Warlosten\" ,\"Sitio web\":\"http://www.uexternado.edu.co\",\n",
    "              \"Facultades\":{ \"Administración de Empresas\",\n",
    "                            \"Administración de Empresas Turísticas y Hoteleras\",\n",
    "                            \"Ciencias de la Educación\",\"Ciencias Sociales y Humanas\",\n",
    "                            \"Comunicación Social - Periodismo\",\"Contaduría Pública\",\"Derecho\",\n",
    "                            \"Economía\",\"Estudios del Patrimonio Cultural\",\"Finanzas, Gobierno y Relaciones Internacionales\"}}"
   ]
  },
  {
   "cell_type": "code",
   "execution_count": 163,
   "metadata": {},
   "outputs": [
    {
     "data": {
      "text/plain": [
       "'Universidad Externado de Colombia'"
      ]
     },
     "execution_count": 163,
     "metadata": {},
     "output_type": "execute_result"
    }
   ],
   "source": [
    "UEC[\"Nombre\"]"
   ]
  },
  {
   "cell_type": "code",
   "execution_count": 164,
   "metadata": {},
   "outputs": [
    {
     "data": {
      "text/plain": [
       "1886"
      ]
     },
     "execution_count": 164,
     "metadata": {},
     "output_type": "execute_result"
    }
   ],
   "source": [
    "UEC[\"Año de fundación\"]"
   ]
  },
  {
   "cell_type": "code",
   "execution_count": 166,
   "metadata": {},
   "outputs": [
    {
     "data": {
      "text/plain": [
       "set"
      ]
     },
     "execution_count": 166,
     "metadata": {},
     "output_type": "execute_result"
    }
   ],
   "source": [
    "type(UEC[\"Facultades\"])"
   ]
  },
  {
   "cell_type": "code",
   "execution_count": 167,
   "metadata": {},
   "outputs": [
    {
     "data": {
      "text/plain": [
       "{'Administración de Empresas',\n",
       " 'Administración de Empresas Turísticas y Hoteleras',\n",
       " 'Ciencias Sociales y Humanas',\n",
       " 'Ciencias de la Educación',\n",
       " 'Comunicación Social - Periodismo',\n",
       " 'Contaduría Pública',\n",
       " 'Derecho',\n",
       " 'Economía',\n",
       " 'Estudios del Patrimonio Cultural',\n",
       " 'Finanzas, Gobierno y Relaciones Internacionales'}"
      ]
     },
     "execution_count": 167,
     "metadata": {},
     "output_type": "execute_result"
    }
   ],
   "source": [
    "UEC[\"Facultades\"]"
   ]
  },
  {
   "cell_type": "code",
   "execution_count": 168,
   "metadata": {},
   "outputs": [
    {
     "ename": "KeyError",
     "evalue": "1",
     "output_type": "error",
     "traceback": [
      "\u001b[0;31m---------------------------------------------------------------------------\u001b[0m",
      "\u001b[0;31mKeyError\u001b[0m                                  Traceback (most recent call last)",
      "\u001b[0;32m<ipython-input-168-b945e717a44e>\u001b[0m in \u001b[0;36m<module>\u001b[0;34m\u001b[0m\n\u001b[0;32m----> 1\u001b[0;31m \u001b[0mUEC\u001b[0m\u001b[0;34m[\u001b[0m\u001b[0;36m1\u001b[0m\u001b[0;34m]\u001b[0m\u001b[0;34m\u001b[0m\u001b[0;34m\u001b[0m\u001b[0m\n\u001b[0m",
      "\u001b[0;31mKeyError\u001b[0m: 1"
     ]
    }
   ],
   "source": [
    "UEC[1]"
   ]
  },
  {
   "cell_type": "code",
   "execution_count": 169,
   "metadata": {},
   "outputs": [],
   "source": [
    "UEC[\"Departamentos\"]=[\"Departamento de Matemáticas\",\"Departamento de Lenguas\"]"
   ]
  },
  {
   "cell_type": "code",
   "execution_count": 170,
   "metadata": {},
   "outputs": [
    {
     "data": {
      "text/plain": [
       "{'Nombre': 'Universidad Externado de Colombia',\n",
       " 'Año de fundación': 1886,\n",
       " 'Fundador': 'Nicolás Pinzón Warlosten',\n",
       " 'Sitio web': 'http://www.uexternado.edu.co',\n",
       " 'Facultades': {'Administración de Empresas',\n",
       "  'Administración de Empresas Turísticas y Hoteleras',\n",
       "  'Ciencias Sociales y Humanas',\n",
       "  'Ciencias de la Educación',\n",
       "  'Comunicación Social - Periodismo',\n",
       "  'Contaduría Pública',\n",
       "  'Derecho',\n",
       "  'Economía',\n",
       "  'Estudios del Patrimonio Cultural',\n",
       "  'Finanzas, Gobierno y Relaciones Internacionales'},\n",
       " 'Departamentos': ['Departamento de Matemáticas', 'Departamento de Lenguas']}"
      ]
     },
     "execution_count": 170,
     "metadata": {},
     "output_type": "execute_result"
    }
   ],
   "source": [
    "UEC"
   ]
  },
  {
   "cell_type": "code",
   "execution_count": 171,
   "metadata": {},
   "outputs": [
    {
     "data": {
      "text/plain": [
       "'Departamento de Matemáticas'"
      ]
     },
     "execution_count": 171,
     "metadata": {},
     "output_type": "execute_result"
    }
   ],
   "source": [
    "UEC[\"Departamentos\"][0]"
   ]
  },
  {
   "cell_type": "code",
   "execution_count": 175,
   "metadata": {},
   "outputs": [
    {
     "data": {
      "text/plain": [
       "['Contaduría Pública',\n",
       " 'Administración de Empresas Turísticas y Hoteleras',\n",
       " 'Administración de Empresas',\n",
       " 'Ciencias Sociales y Humanas',\n",
       " 'Comunicación Social - Periodismo',\n",
       " 'Estudios del Patrimonio Cultural',\n",
       " 'Derecho',\n",
       " 'Ciencias de la Educación',\n",
       " 'Economía',\n",
       " 'Finanzas, Gobierno y Relaciones Internacionales']"
      ]
     },
     "execution_count": 175,
     "metadata": {},
     "output_type": "execute_result"
    }
   ],
   "source": [
    "list(UEC[\"Facultades\"])"
   ]
  },
  {
   "cell_type": "code",
   "execution_count": 176,
   "metadata": {},
   "outputs": [
    {
     "data": {
      "text/plain": [
       "'Contaduría Pública'"
      ]
     },
     "execution_count": 176,
     "metadata": {},
     "output_type": "execute_result"
    }
   ],
   "source": [
    "list(UEC[\"Facultades\"])[0]"
   ]
  },
  {
   "cell_type": "code",
   "execution_count": null,
   "metadata": {},
   "outputs": [],
   "source": []
  }
 ],
 "metadata": {
  "kernelspec": {
   "display_name": "Python 3",
   "language": "python",
   "name": "python3"
  },
  "language_info": {
   "codemirror_mode": {
    "name": "ipython",
    "version": 3
   },
   "file_extension": ".py",
   "mimetype": "text/x-python",
   "name": "python",
   "nbconvert_exporter": "python",
   "pygments_lexer": "ipython3",
   "version": "3.7.6"
  },
  "toc": {
   "base_numbering": 1,
   "nav_menu": {},
   "number_sections": false,
   "sideBar": true,
   "skip_h1_title": false,
   "title_cell": "Table of Contents",
   "title_sidebar": "Contents",
   "toc_cell": false,
   "toc_position": {
    "height": "calc(100% - 180px)",
    "left": "10px",
    "top": "150px",
    "width": "217.933px"
   },
   "toc_section_display": true,
   "toc_window_display": false
  }
 },
 "nbformat": 4,
 "nbformat_minor": 4
}
