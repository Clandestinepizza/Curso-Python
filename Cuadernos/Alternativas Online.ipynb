{
 "cells": [
  {
   "cell_type": "markdown",
   "metadata": {},
   "source": [
    "# Alternativas Online\n",
    "**Universidad Central**\n",
    "\n",
    "*Carlos Isaac Zainea*"
   ]
  },
  {
   "cell_type": "markdown",
   "metadata": {},
   "source": [
    "## Ejecución en la nube\n",
    "\n",
    "Una de las prácticas más comunes en esta época es tratar de tener la menor cantidad de datos en nuestros discos físicos, de hecho, la filosofia de alojar todo en la nube ha tomado bastante fuerza en los ultimos años. El *Cloud Computing* quizás se reconoce como uno de los paradigmas actuales de computación. Acorde a esa filosofía tenemos varias herramientas en la nube que nos permiten ejecutar código en Python y R usando cuadernos e Ides como la de R Studio. aquí mencionamos las tres alternativas Online para ejecutar código de R y Python en la nube.\n",
    "\n",
    "## [Try Jupyter](https://jupyter.org/try)\n",
    "\n",
    "Desde la página que aloja el proyecto jupyter, utilizando como motor de interacción a Binder, se puede interactuar con respositorios que alojan algunos proyectos.  \n",
    "\n",
    "<img src=\"https://raw.githubusercontent.com/Izainea/Curso-Python/master/images/tryjupyter.png?raw=true\"  width=\"720\" >\n",
    "\n",
    "## [Google Colaboratory](https://colab.research.google.com/notebooks/welcome.ipynb)\n",
    "\n",
    "Colaboratory es un entorno de notebook de Jupyter gratuito que no requiere configuración y se ejecuta completamente en la nube. Permite ejecutar código, guardar y compartir análisis, y acceder a recursos informáticos potentes, desde el navegador. Adicionalmente, cuenta con un IDE amable y algunas extensiones que facilitan el ejercicio de programación, entre ellos completación inteligente de texto código, una vista simultanea para celdas Markdown, gran parte de los paquetes usados instalados, sincronizado sobre la nube, entre otros. \n",
    "\n",
    "<img src=\"https://github.com/ucmadcursoPythonyR/2020/blob/master/images/colaboratory.png?raw=true\"  width=\"720\" >\n",
    "\n"
   ]
  }
 ],
 "metadata": {
  "kernelspec": {
   "display_name": "Python 3",
   "language": "python",
   "name": "python3"
  },
  "language_info": {
   "codemirror_mode": {
    "name": "ipython",
    "version": 3
   },
   "file_extension": ".py",
   "mimetype": "text/x-python",
   "name": "python",
   "nbconvert_exporter": "python",
   "pygments_lexer": "ipython3",
   "version": "3.7.6"
  },
  "toc": {
   "base_numbering": 1,
   "nav_menu": {},
   "number_sections": false,
   "sideBar": true,
   "skip_h1_title": false,
   "title_cell": "Table of Contents",
   "title_sidebar": "Contents",
   "toc_cell": false,
   "toc_position": {},
   "toc_section_display": true,
   "toc_window_display": false
  }
 },
 "nbformat": 4,
 "nbformat_minor": 4
}
